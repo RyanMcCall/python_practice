{
 "cells": [
  {
   "cell_type": "markdown",
   "metadata": {},
   "source": [
    "# [String Problems](https://www.hackerrank.com/domains/python?filters%5Bstatus%5D%5B%5D=unsolved&filters%5Bsubdomains%5D%5B%5D=py-strings&badge_type=python)\n",
    "\n",
    "## [sWAP cASE](https://www.hackerrank.com/challenges/swap-case/problem)\n",
    "\n",
    "### Problem\n",
    "\n",
    "You are given a string and your task is to swap cases. In other words, convert all lowercase letters to uppercase letters and vice versa.\n",
    "\n",
    "#### For Example:\n",
    "\n",
    "```\n",
    "Www.HackerRank.com → wWW.hACKERrANK.COM\n",
    "Pythonist 2 → pYTHONIST 2\n",
    "```\n",
    "\n",
    "#### Input Format\n",
    "\n",
    "A single line containing a string $S$.\n",
    "\n",
    "#### Constraints\n",
    "\n",
    "$0 < len(S) \\leq 1000$\n",
    "\n",
    "#### Output Format\n",
    "\n",
    "Print the modified string $S$.\n",
    "\n",
    "#### Sample Input 0\n",
    "```\n",
    "HackerRank.com presents \"Pythonist 2\".\n",
    "```\n",
    "#### Sample Output 0\n",
    "```\n",
    "hACKERrANK.COM PRESENTS \"pYTHONIST 2\".\n",
    "```"
   ]
  },
  {
   "cell_type": "code",
   "execution_count": 8,
   "metadata": {},
   "outputs": [
    {
     "data": {
      "text/plain": [
       "'hACKERrANK.COM PRESENTS \"pYTHONIST 2\".'"
      ]
     },
     "execution_count": 8,
     "metadata": {},
     "output_type": "execute_result"
    }
   ],
   "source": [
    "def swap_case(s):\n",
    "    swap_string = ''\n",
    "    for char in s:\n",
    "        if char.isalpha():\n",
    "            \n",
    "            if char == char.upper():\n",
    "                swap_string += char.lower()\n",
    "                \n",
    "            else:\n",
    "                swap_string += char.upper()\n",
    "                \n",
    "        else:\n",
    "            swap_string += char\n",
    "    \n",
    "    return swap_string\n",
    "            \n",
    "swap_case('HackerRank.com presents \"Pythonist 2\".')"
   ]
  }
 ],
 "metadata": {
  "kernelspec": {
   "display_name": "Python 3",
   "language": "python",
   "name": "python3"
  },
  "language_info": {
   "codemirror_mode": {
    "name": "ipython",
    "version": 3
   },
   "file_extension": ".py",
   "mimetype": "text/x-python",
   "name": "python",
   "nbconvert_exporter": "python",
   "pygments_lexer": "ipython3",
   "version": "3.7.7"
  }
 },
 "nbformat": 4,
 "nbformat_minor": 4
}
