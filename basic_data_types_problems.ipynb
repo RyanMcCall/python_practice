{
 "cells": [
  {
   "cell_type": "markdown",
   "metadata": {},
   "source": [
    "# Basic Data Types Problems\n",
    "\n",
    "## [List Comprehensions](https://www.hackerrank.com/challenges/list-comprehensions/problem)\n",
    "\n",
    "Let's learn about list comprehensions! You are given three integers $X$, $Y$, $Z$  and  representing the dimensions of a cuboid along with an integer $N$. You have to print a list of all possible coordinates given by $(i,j,k)$ on a 3D grid where the sum of $i+ j+k$ is not equal to $N$. Here, $0 \\leq i \\leq X; 0 \\leq j \\leq Y; 0 \\leq k \\leq Z$\n",
    "\n",
    "### Input Format\n",
    "\n",
    "Four integers $X,Y,Z$ and $N$ each on four separate lines, respectively.\n",
    "\n",
    "### Constraints\n",
    "\n",
    "Print the list in lexicographic increasing order.\n",
    "\n",
    "### Sample Input 0\n",
    "\n",
    "```python\n",
    "1\n",
    "1\n",
    "1\n",
    "2\n",
    "```\n",
    "\n",
    "### Sample Output 0\n",
    "\n",
    "```python\n",
    "[[0, 0, 0], [0, 0, 1], [0, 1, 0], [1, 0, 0], [1, 1, 1]]\n",
    "```\n",
    "\n",
    "### Explanation 0\n",
    "\n",
    "#### Concept\n",
    "\n",
    "You have already used lists in previous hacks. List comprehensions are an elegant way to build a list without having to use different for loops to append values one by one. This example might help.\n",
    "\n",
    "**Example**: You are given two integers x and y . You need to find out the ordered pairs ( i , j ) , such that ( i + j ) is not equal to n and print them in lexicographic order.( 0 <= i <= x ) and ( 0 <= j <= y) This is the code if **we dont use list comprehensions in Python**.\n",
    "\n",
    "```python \n",
    "x = int ( raw_input()) \n",
    "y = int ( raw_input()) \n",
    "n = int ( raw_input()) \n",
    "ar = [] \n",
    "p = 0 \n",
    "for i in range ( x + 1 ) : \n",
    "    for j in range( y + 1): \n",
    "        if i+j != n: \n",
    "            ar.append([]) \n",
    "            ar[p] = [ i , j ] \n",
    "            p+=1 \n",
    "print ar\n",
    "```\n",
    "Other smaller codes may also exist, but using list comprehensions is always a good option. Code using list comprehensions:\n",
    "\n",
    "```python \n",
    "x = int ( raw_input()) \n",
    "y = int ( raw_input()) \n",
    "n = int ( raw_input()) \n",
    "print(\n",
    "    [ \n",
    "        [ i, j] \n",
    "        for i in range( x + 1) \n",
    "        for j in range( y + 1) \n",
    "        if ( ( i + j ) != n )\n",
    "    ]\n",
    ")\n",
    "```\n",
    "\n",
    "### Sample Input 1\n",
    "\n",
    "```python\n",
    "2\n",
    "2\n",
    "2\n",
    "2\n",
    "```\n",
    "\n",
    "### Sample Output 1\n",
    "\n",
    "```python\n",
    "[[0, 0, 0], [0, 0, 1], [0, 1, 0], [0, 1, 2], [0, 2, 1], [0, 2, 2], [1, 0, 0], [1, 0, 2], [1, 1, 1], [1, 1, 2], [1, 2, 0], [1, 2, 1], [1, 2, 2], [2, 0, 1], [2, 0, 2], [2, 1, 0], [2, 1, 1], [2, 1, 2], [2, 2, 0], [2, 2, 1], [2, 2, 2]]\n",
    "```"
   ]
  },
  {
   "cell_type": "code",
   "execution_count": 3,
   "metadata": {},
   "outputs": [
    {
     "name": "stdin",
     "output_type": "stream",
     "text": [
      "X:  2\n",
      "Y:  2\n",
      "Z:  2\n",
      "N:  2\n"
     ]
    },
    {
     "name": "stdout",
     "output_type": "stream",
     "text": [
      "[[0, 0, 0], [0, 0, 1], [0, 1, 0], [0, 1, 2], [0, 2, 1], [0, 2, 2], [1, 0, 0], [1, 0, 2], [1, 1, 1], [1, 1, 2], [1, 2, 0], [1, 2, 1], [1, 2, 2], [2, 0, 1], [2, 0, 2], [2, 1, 0], [2, 1, 1], [2, 1, 2], [2, 2, 0], [2, 2, 1], [2, 2, 2]]\n"
     ]
    }
   ],
   "source": [
    "if __name__ == \"__main__\":\n",
    "    x = int(input('X: '))\n",
    "    y = int(input('Y: '))\n",
    "    z = int(input('Z: '))\n",
    "    n = int(input('N: '))\n",
    "\n",
    "print(\n",
    "    [\n",
    "        [i, j, k]\n",
    "        for i in range(x + 1)\n",
    "        for j in range(y + 1)\n",
    "        for k in range(z + 1)\n",
    "        if ((i + j + k) != n)\n",
    "    ]\n",
    ")"
   ]
  },
  {
   "cell_type": "code",
   "execution_count": null,
   "metadata": {},
   "outputs": [],
   "source": []
  }
 ],
 "metadata": {
  "kernelspec": {
   "display_name": "Python 3",
   "language": "python",
   "name": "python3"
  },
  "language_info": {
   "codemirror_mode": {
    "name": "ipython",
    "version": 3
   },
   "file_extension": ".py",
   "mimetype": "text/x-python",
   "name": "python",
   "nbconvert_exporter": "python",
   "pygments_lexer": "ipython3",
   "version": "3.7.4"
  }
 },
 "nbformat": 4,
 "nbformat_minor": 4
}
